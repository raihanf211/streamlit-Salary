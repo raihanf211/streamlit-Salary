{
 "cells": [
  {
   "attachments": {},
   "cell_type": "markdown",
   "id": "1bdf8e8f",
   "metadata": {
    "papermill": {
     "duration": 0.010542,
     "end_time": "2022-12-21T03:08:37.996426",
     "exception": false,
     "start_time": "2022-12-21T03:08:37.985884",
     "status": "completed"
    },
    "tags": []
   },
   "source": [
    "## SALARY PREDICTION BASED ON WORK EXPERIENCE\n"
   ]
  },
  {
   "cell_type": "code",
   "execution_count": 1,
   "id": "7eeab202",
   "metadata": {
    "_cell_guid": "b1076dfc-b9ad-4769-8c92-a6c4dae69d19",
    "_uuid": "8f2839f25d086af736a60e9eeb907d3b93b6e0e5",
    "execution": {
     "iopub.execute_input": "2022-12-21T03:08:38.090535Z",
     "iopub.status.busy": "2022-12-21T03:08:38.089482Z",
     "iopub.status.idle": "2022-12-21T03:08:39.255342Z",
     "shell.execute_reply": "2022-12-21T03:08:39.253808Z"
    },
    "papermill": {
     "duration": 1.180623,
     "end_time": "2022-12-21T03:08:39.259096",
     "exception": false,
     "start_time": "2022-12-21T03:08:38.078473",
     "status": "completed"
    },
    "tags": []
   },
   "outputs": [
    {
     "name": "stdout",
     "output_type": "stream",
     "text": [
      "Numpy version : 1.23.5\n",
      "Pandas version : 1.5.3\n",
      "Seaborn version : 0.12.2\n",
      "Matplotlib version : 3.7.1\n"
     ]
    }
   ],
   "source": [
    "\n",
    "import numpy as np # linear algebra\n",
    "print('Numpy version : {}'.format(np.__version__))\n",
    "\n",
    "import pandas as pd # data processing, CSV file I/O (e.g. pd.read_csv)\n",
    "print('Pandas version : {}'.format(pd.__version__))\n",
    "\n",
    "import seaborn as sb\n",
    "print('Seaborn version : {}'.format(sb.__version__))\n",
    "\n",
    "import matplotlib\n",
    "import matplotlib.pyplot as plt\n",
    "print('Matplotlib version : {}'.format(matplotlib.__version__))\n",
    "\n",
    "import warnings \n",
    "warnings.filterwarnings('ignore')\n",
    "\n",
    "# Input data files are available in the read-only \"../input/\" directory\n",
    "# For example, running this (by clicking run or pressing Shift+Enter) will list all files under the input directory\n",
    "\n",
    "import os\n",
    "for dirname, _, filenames in os.walk('/kaggle/input'):\n",
    "    for filename in filenames:\n",
    "        print(os.path.join(dirname, filename))\n",
    "\n",
    "# You can write up to 20GB to the current directory (/kaggle/working/) that gets preserved as output when you create a version using \"Save & Run All\" \n",
    "# You can also write temporary files to /kaggle/temp/, but they won't be saved outside of the current session"
   ]
  },
  {
   "attachments": {},
   "cell_type": "markdown",
   "id": "89ab4675",
   "metadata": {
    "papermill": {
     "duration": 0.00906,
     "end_time": "2022-12-21T03:08:39.278387",
     "exception": false,
     "start_time": "2022-12-21T03:08:39.269327",
     "status": "completed"
    },
    "tags": []
   },
   "source": [
    "##### Load Dataset\n",
    "Ambil dan lihat konten dari 10 data pertama"
   ]
  },
  {
   "cell_type": "code",
   "execution_count": 2,
   "id": "67400b0f",
   "metadata": {
    "execution": {
     "iopub.execute_input": "2022-12-21T03:08:39.299382Z",
     "iopub.status.busy": "2022-12-21T03:08:39.298366Z",
     "iopub.status.idle": "2022-12-21T03:08:39.337806Z",
     "shell.execute_reply": "2022-12-21T03:08:39.336737Z"
    },
    "papermill": {
     "duration": 0.0527,
     "end_time": "2022-12-21T03:08:39.340427",
     "exception": false,
     "start_time": "2022-12-21T03:08:39.287727",
     "status": "completed"
    },
    "tags": []
   },
   "outputs": [
    {
     "data": {
      "text/html": [
       "<div>\n",
       "<style scoped>\n",
       "    .dataframe tbody tr th:only-of-type {\n",
       "        vertical-align: middle;\n",
       "    }\n",
       "\n",
       "    .dataframe tbody tr th {\n",
       "        vertical-align: top;\n",
       "    }\n",
       "\n",
       "    .dataframe thead th {\n",
       "        text-align: right;\n",
       "    }\n",
       "</style>\n",
       "<table border=\"1\" class=\"dataframe\">\n",
       "  <thead>\n",
       "    <tr style=\"text-align: right;\">\n",
       "      <th></th>\n",
       "      <th>YearsExperience</th>\n",
       "      <th>Salary</th>\n",
       "    </tr>\n",
       "  </thead>\n",
       "  <tbody>\n",
       "    <tr>\n",
       "      <th>0</th>\n",
       "      <td>1.1</td>\n",
       "      <td>39343.0</td>\n",
       "    </tr>\n",
       "    <tr>\n",
       "      <th>1</th>\n",
       "      <td>1.3</td>\n",
       "      <td>46205.0</td>\n",
       "    </tr>\n",
       "    <tr>\n",
       "      <th>2</th>\n",
       "      <td>1.5</td>\n",
       "      <td>37731.0</td>\n",
       "    </tr>\n",
       "    <tr>\n",
       "      <th>3</th>\n",
       "      <td>2.0</td>\n",
       "      <td>43525.0</td>\n",
       "    </tr>\n",
       "    <tr>\n",
       "      <th>4</th>\n",
       "      <td>2.2</td>\n",
       "      <td>39891.0</td>\n",
       "    </tr>\n",
       "    <tr>\n",
       "      <th>5</th>\n",
       "      <td>2.9</td>\n",
       "      <td>56642.0</td>\n",
       "    </tr>\n",
       "    <tr>\n",
       "      <th>6</th>\n",
       "      <td>3.0</td>\n",
       "      <td>60150.0</td>\n",
       "    </tr>\n",
       "    <tr>\n",
       "      <th>7</th>\n",
       "      <td>3.2</td>\n",
       "      <td>54445.0</td>\n",
       "    </tr>\n",
       "    <tr>\n",
       "      <th>8</th>\n",
       "      <td>3.2</td>\n",
       "      <td>64445.0</td>\n",
       "    </tr>\n",
       "    <tr>\n",
       "      <th>9</th>\n",
       "      <td>3.7</td>\n",
       "      <td>57189.0</td>\n",
       "    </tr>\n",
       "  </tbody>\n",
       "</table>\n",
       "</div>"
      ],
      "text/plain": [
       "   YearsExperience   Salary\n",
       "0              1.1  39343.0\n",
       "1              1.3  46205.0\n",
       "2              1.5  37731.0\n",
       "3              2.0  43525.0\n",
       "4              2.2  39891.0\n",
       "5              2.9  56642.0\n",
       "6              3.0  60150.0\n",
       "7              3.2  54445.0\n",
       "8              3.2  64445.0\n",
       "9              3.7  57189.0"
      ]
     },
     "execution_count": 2,
     "metadata": {},
     "output_type": "execute_result"
    }
   ],
   "source": [
    "# Mengambil dan melihat isi 10 data pertama  \n",
    "data = pd.read_csv('Salary_Data.csv')\n",
    "data.head(10)"
   ]
  },
  {
   "cell_type": "markdown",
   "id": "a0c05b78",
   "metadata": {
    "papermill": {
     "duration": 0.00924,
     "end_time": "2022-12-21T03:08:39.359410",
     "exception": false,
     "start_time": "2022-12-21T03:08:39.350170",
     "status": "completed"
    },
    "tags": []
   },
   "source": [
    "#### Data Exploration"
   ]
  },
  {
   "attachments": {},
   "cell_type": "markdown",
   "id": "8a55c758",
   "metadata": {
    "papermill": {
     "duration": 0.009122,
     "end_time": "2022-12-21T03:08:39.378088",
     "exception": false,
     "start_time": "2022-12-21T03:08:39.368966",
     "status": "completed"
    },
    "tags": []
   },
   "source": [
    "##### Data Structure\n",
    "\n",
    "*Berdasarkan output di bawah ini, dataset telah menampilkan informasi struktural yang berupa nama fitur, berapa jumlah data yang non-null, serta tipe data yang digunakan. Terlihat bahwa terdapat 2 fitur dalam dataset, dimana untuk setiap fitur yang tiak memiliki data not-null yang artinya dataset ini tidak mengandung data null. Dapat terlihat pula bahwa dataset ini menggunakna tipe data float pada kedua fiturnya*"
   ]
  },
  {
   "cell_type": "code",
   "execution_count": 11,
   "id": "f486cdc1",
   "metadata": {
    "execution": {
     "iopub.execute_input": "2022-12-21T03:08:39.399556Z",
     "iopub.status.busy": "2022-12-21T03:08:39.398492Z",
     "iopub.status.idle": "2022-12-21T03:08:39.425161Z",
     "shell.execute_reply": "2022-12-21T03:08:39.423063Z"
    },
    "papermill": {
     "duration": 0.041577,
     "end_time": "2022-12-21T03:08:39.429155",
     "exception": false,
     "start_time": "2022-12-21T03:08:39.387578",
     "status": "completed"
    },
    "tags": []
   },
   "outputs": [
    {
     "name": "stdout",
     "output_type": "stream",
     "text": [
      "<class 'pandas.core.frame.DataFrame'>\n",
      "RangeIndex: 30 entries, 0 to 29\n",
      "Data columns (total 2 columns):\n",
      " #   Column           Non-Null Count  Dtype  \n",
      "---  ------           --------------  -----  \n",
      " 0   YearsExperience  30 non-null     float64\n",
      " 1   Salary           30 non-null     float64\n",
      "dtypes: float64(2)\n",
      "memory usage: 608.0 bytes\n"
     ]
    }
   ],
   "source": [
    "# Melihat informasi struktural dari dataset\n",
    "data.info()"
   ]
  },
  {
   "attachments": {},
   "cell_type": "markdown",
   "id": "903d461b",
   "metadata": {
    "papermill": {
     "duration": 0.013232,
     "end_time": "2022-12-21T03:08:39.457468",
     "exception": false,
     "start_time": "2022-12-21T03:08:39.444236",
     "status": "completed"
    },
    "tags": []
   },
   "source": [
    "##### Data Dimension\n",
    "Berdasarkan output di bawah ini, dimensi data dalam dataset adalah 30 baris dan 2 kolom."
   ]
  },
  {
   "cell_type": "code",
   "execution_count": 12,
   "id": "e8fbb717",
   "metadata": {
    "execution": {
     "iopub.execute_input": "2022-12-21T03:08:39.486050Z",
     "iopub.status.busy": "2022-12-21T03:08:39.484866Z",
     "iopub.status.idle": "2022-12-21T03:08:39.491374Z",
     "shell.execute_reply": "2022-12-21T03:08:39.490346Z"
    },
    "papermill": {
     "duration": 0.023683,
     "end_time": "2022-12-21T03:08:39.493812",
     "exception": false,
     "start_time": "2022-12-21T03:08:39.470129",
     "status": "completed"
    },
    "tags": []
   },
   "outputs": [
    {
     "data": {
      "text/plain": [
       "(30, 2)"
      ]
     },
     "execution_count": 12,
     "metadata": {},
     "output_type": "execute_result"
    }
   ],
   "source": [
    "# Melihat dimensi dataset (30 baris dan 2 kolom).\n",
    "data.shape"
   ]
  },
  {
   "attachments": {},
   "cell_type": "markdown",
   "id": "dd4018fb",
   "metadata": {
    "papermill": {
     "duration": 0.013065,
     "end_time": "2022-12-21T03:08:39.520454",
     "exception": false,
     "start_time": "2022-12-21T03:08:39.507389",
     "status": "completed"
    },
    "tags": []
   },
   "source": [
    "##### Deskripsi Data\n",
    "Keluaran di bawah ini akan menampilkan berbagai informasi statistik untuk setiap kolom"
   ]
  },
  {
   "cell_type": "code",
   "execution_count": 13,
   "id": "08a5900b",
   "metadata": {
    "execution": {
     "iopub.execute_input": "2022-12-21T03:08:39.550835Z",
     "iopub.status.busy": "2022-12-21T03:08:39.550167Z",
     "iopub.status.idle": "2022-12-21T03:08:39.570472Z",
     "shell.execute_reply": "2022-12-21T03:08:39.569171Z"
    },
    "papermill": {
     "duration": 0.038709,
     "end_time": "2022-12-21T03:08:39.573057",
     "exception": false,
     "start_time": "2022-12-21T03:08:39.534348",
     "status": "completed"
    },
    "tags": []
   },
   "outputs": [
    {
     "data": {
      "text/html": [
       "<div>\n",
       "<style scoped>\n",
       "    .dataframe tbody tr th:only-of-type {\n",
       "        vertical-align: middle;\n",
       "    }\n",
       "\n",
       "    .dataframe tbody tr th {\n",
       "        vertical-align: top;\n",
       "    }\n",
       "\n",
       "    .dataframe thead th {\n",
       "        text-align: right;\n",
       "    }\n",
       "</style>\n",
       "<table border=\"1\" class=\"dataframe\">\n",
       "  <thead>\n",
       "    <tr style=\"text-align: right;\">\n",
       "      <th></th>\n",
       "      <th>YearsExperience</th>\n",
       "      <th>Salary</th>\n",
       "    </tr>\n",
       "  </thead>\n",
       "  <tbody>\n",
       "    <tr>\n",
       "      <th>count</th>\n",
       "      <td>30.000000</td>\n",
       "      <td>30.000000</td>\n",
       "    </tr>\n",
       "    <tr>\n",
       "      <th>mean</th>\n",
       "      <td>5.313333</td>\n",
       "      <td>76003.000000</td>\n",
       "    </tr>\n",
       "    <tr>\n",
       "      <th>std</th>\n",
       "      <td>2.837888</td>\n",
       "      <td>27414.429785</td>\n",
       "    </tr>\n",
       "    <tr>\n",
       "      <th>min</th>\n",
       "      <td>1.100000</td>\n",
       "      <td>37731.000000</td>\n",
       "    </tr>\n",
       "    <tr>\n",
       "      <th>25%</th>\n",
       "      <td>3.200000</td>\n",
       "      <td>56720.750000</td>\n",
       "    </tr>\n",
       "    <tr>\n",
       "      <th>50%</th>\n",
       "      <td>4.700000</td>\n",
       "      <td>65237.000000</td>\n",
       "    </tr>\n",
       "    <tr>\n",
       "      <th>75%</th>\n",
       "      <td>7.700000</td>\n",
       "      <td>100544.750000</td>\n",
       "    </tr>\n",
       "    <tr>\n",
       "      <th>max</th>\n",
       "      <td>10.500000</td>\n",
       "      <td>122391.000000</td>\n",
       "    </tr>\n",
       "  </tbody>\n",
       "</table>\n",
       "</div>"
      ],
      "text/plain": [
       "       YearsExperience         Salary\n",
       "count        30.000000      30.000000\n",
       "mean          5.313333   76003.000000\n",
       "std           2.837888   27414.429785\n",
       "min           1.100000   37731.000000\n",
       "25%           3.200000   56720.750000\n",
       "50%           4.700000   65237.000000\n",
       "75%           7.700000  100544.750000\n",
       "max          10.500000  122391.000000"
      ]
     },
     "execution_count": 13,
     "metadata": {},
     "output_type": "execute_result"
    }
   ],
   "source": [
    "# Menampilkan informasi statistik untuk setiap kolomnya\n",
    "data.describe()"
   ]
  },
  {
   "cell_type": "code",
   "execution_count": 14,
   "id": "bac26d60",
   "metadata": {
    "execution": {
     "iopub.execute_input": "2022-12-21T03:08:39.594786Z",
     "iopub.status.busy": "2022-12-21T03:08:39.594402Z",
     "iopub.status.idle": "2022-12-21T03:08:40.029996Z",
     "shell.execute_reply": "2022-12-21T03:08:40.028839Z"
    },
    "papermill": {
     "duration": 0.449235,
     "end_time": "2022-12-21T03:08:40.032384",
     "exception": false,
     "start_time": "2022-12-21T03:08:39.583149",
     "status": "completed"
    },
    "tags": []
   },
   "outputs": [
    {
     "data": {
      "text/plain": [
       "<Axes: xlabel='YearsExperience', ylabel='Salary'>"
      ]
     },
     "execution_count": 14,
     "metadata": {},
     "output_type": "execute_result"
    },
    {
     "data": {
      "image/png": "[encoded data removed]",
      "text/plain": [
       "<Figure size 640x480 with 1 Axes>"
      ]
     },
     "metadata": {},
     "output_type": "display_data"
    }
   ],
   "source": [
    "# Melihat penyebaran data\n",
    "sb.scatterplot(x='YearsExperience', y='Salary',hue='YearsExperience', data=data)"
   ]
  },
  {
   "cell_type": "markdown",
   "id": "c2b63ce3",
   "metadata": {
    "papermill": {
     "duration": 0.010107,
     "end_time": "2022-12-21T03:08:40.053031",
     "exception": false,
     "start_time": "2022-12-21T03:08:40.042924",
     "status": "completed"
    },
    "tags": []
   },
   "source": [
    "#### Data Preparation"
   ]
  },
  {
   "attachments": {},
   "cell_type": "markdown",
   "id": "fe8adbf6",
   "metadata": {
    "papermill": {
     "duration": 0.010129,
     "end_time": "2022-12-21T03:08:40.074083",
     "exception": false,
     "start_time": "2022-12-21T03:08:40.063954",
     "status": "completed"
    },
    "tags": []
   },
   "source": [
    "##### Checking for Null Data \n",
    "*Berdasarkan output di bawah akan ditampilkan jumlah data null pada setiap kolom atau fitur dalam dataset. Output menunjukkan bahwa setiap kolom sudah tidak mengandung data null.*"
   ]
  },
  {
   "cell_type": "code",
   "execution_count": 15,
   "id": "11f48eff",
   "metadata": {
    "execution": {
     "iopub.execute_input": "2022-12-21T03:08:40.097181Z",
     "iopub.status.busy": "2022-12-21T03:08:40.096505Z",
     "iopub.status.idle": "2022-12-21T03:08:40.105258Z",
     "shell.execute_reply": "2022-12-21T03:08:40.104112Z"
    },
    "papermill": {
     "duration": 0.02317,
     "end_time": "2022-12-21T03:08:40.107759",
     "exception": false,
     "start_time": "2022-12-21T03:08:40.084589",
     "status": "completed"
    },
    "tags": []
   },
   "outputs": [
    {
     "data": {
      "text/plain": [
       "YearsExperience    0\n",
       "Salary             0\n",
       "dtype: int64"
      ]
     },
     "execution_count": 15,
     "metadata": {},
     "output_type": "execute_result"
    }
   ],
   "source": [
    "# Memeriksa nilai null dalam dataset\n",
    "data.isnull().sum()"
   ]
  },
  {
   "attachments": {},
   "cell_type": "markdown",
   "id": "914642f2",
   "metadata": {
    "papermill": {
     "duration": 0.010478,
     "end_time": "2022-12-21T03:08:40.128875",
     "exception": false,
     "start_time": "2022-12-21T03:08:40.118397",
     "status": "completed"
    },
    "tags": []
   },
   "source": [
    "##### Checking for Outliers\n",
    "*Outliers perlu dicari dan dihapus karena dapat mengakibatkan kesalahan dalam pengukuran, kesalahan dalam entri ataupun kesalahan dalam pemrosesan data dikarenakan pengambilan sampel yang buruk.*\n",
    "\n",
    "*Kode dibawah ini digunakan untuk mendeteksi outliers dengan menggunakan Inter-Quartile Range (IQR). IQR akan menunjukkan median dari dataset, kemudian IQR akan menentukan data mana yang telah melebihi batas normal atas dan bawah dari pada dataset. Kemudian IQR akan mendefinisikan fitur yang terdapat nilai outlier sebagai yes maupun no apabila tidak terdaapat outlier.*"
   ]
  },
  {
   "cell_type": "code",
   "execution_count": 16,
   "id": "9b79ca7f",
   "metadata": {
    "execution": {
     "iopub.execute_input": "2022-12-21T03:08:40.152044Z",
     "iopub.status.busy": "2022-12-21T03:08:40.151411Z",
     "iopub.status.idle": "2022-12-21T03:08:40.165534Z",
     "shell.execute_reply": "2022-12-21T03:08:40.164343Z"
    },
    "papermill": {
     "duration": 0.028365,
     "end_time": "2022-12-21T03:08:40.167876",
     "exception": false,
     "start_time": "2022-12-21T03:08:40.139511",
     "status": "completed"
    },
    "tags": []
   },
   "outputs": [
    {
     "name": "stdout",
     "output_type": "stream",
     "text": [
      "YearsExperience no\n",
      "Salary no\n"
     ]
    }
   ],
   "source": [
    "# Memeriksa data outlier\n",
    "for i in data:\n",
    "    Q1 = data[i].quantile(0.25)\n",
    "    Q3 = data[i].quantile(0.75)\n",
    "    IQR = Q3-Q1\n",
    "    \n",
    "    up = Q3 + 1.5*IQR\n",
    "    low = Q1 - 1.5*IQR\n",
    "\n",
    "    if data[(data[i] > up) | (data[i] < low)].any(axis=None):\n",
    "        print(i,\"yes\")\n",
    "    else:\n",
    "        print(i, \"no\")"
   ]
  },
  {
   "attachments": {},
   "cell_type": "markdown",
   "id": "f3b9ea11",
   "metadata": {
    "papermill": {
     "duration": 0.010061,
     "end_time": "2022-12-21T03:08:40.188429",
     "exception": false,
     "start_time": "2022-12-21T03:08:40.178368",
     "status": "completed"
    },
    "tags": []
   },
   "source": [
    "#### Data Modelling\n",
    "*Memodelkan data berarti mengolah dan menganalisis data dengan menggunakan suatu model algoritma baik secara manual maupun menggunakan model yang telah ada sebelumnya. Dalam fase pemodelan, data akan diuji menggunakan beberapa model untuk menentukan model terbaik.*"
   ]
  },
  {
   "attachments": {},
   "cell_type": "markdown",
   "id": "fe624b40",
   "metadata": {
    "papermill": {
     "duration": 0.010292,
     "end_time": "2022-12-21T03:08:40.209099",
     "exception": false,
     "start_time": "2022-12-21T03:08:40.198807",
     "status": "completed"
    },
    "tags": []
   },
   "source": [
    "##### Feature Selection\n",
    "Selecting features in dataset, which is YearsExperience as X and Salary as Y\n",
    "\n",
    "Memilih fitur dalam dataset, yaitu YearsExperience sebagai X dan Gaji sebagai Y"
   ]
  },
  {
   "cell_type": "code",
   "execution_count": 17,
   "id": "017071f6",
   "metadata": {
    "execution": {
     "iopub.execute_input": "2022-12-21T03:08:40.231891Z",
     "iopub.status.busy": "2022-12-21T03:08:40.231218Z",
     "iopub.status.idle": "2022-12-21T03:08:40.235808Z",
     "shell.execute_reply": "2022-12-21T03:08:40.234737Z"
    },
    "papermill": {
     "duration": 0.018629,
     "end_time": "2022-12-21T03:08:40.238108",
     "exception": false,
     "start_time": "2022-12-21T03:08:40.219479",
     "status": "completed"
    },
    "tags": []
   },
   "outputs": [],
   "source": [
    "X = data['YearsExperience']\n",
    "Y = data['Salary']"
   ]
  },
  {
   "attachments": {},
   "cell_type": "markdown",
   "id": "e4279605",
   "metadata": {
    "papermill": {
     "duration": 0.010017,
     "end_time": "2022-12-21T03:08:40.258597",
     "exception": false,
     "start_time": "2022-12-21T03:08:40.248580",
     "status": "completed"
    },
    "tags": []
   },
   "source": [
    "##### Data Reshape\n",
    "Mengubah bentuk data (reshape) dengan menghapus indeks agar pemodelan lebih mudah"
   ]
  },
  {
   "cell_type": "code",
   "execution_count": 18,
   "id": "00593cbb",
   "metadata": {
    "execution": {
     "iopub.execute_input": "2022-12-21T03:08:40.281413Z",
     "iopub.status.busy": "2022-12-21T03:08:40.280704Z",
     "iopub.status.idle": "2022-12-21T03:08:40.289044Z",
     "shell.execute_reply": "2022-12-21T03:08:40.287396Z"
    },
    "papermill": {
     "duration": 0.022445,
     "end_time": "2022-12-21T03:08:40.291483",
     "exception": false,
     "start_time": "2022-12-21T03:08:40.269038",
     "status": "completed"
    },
    "tags": []
   },
   "outputs": [
    {
     "name": "stdout",
     "output_type": "stream",
     "text": [
      "Sebelum reshape:\n",
      " 0      1.1\n",
      "1      1.3\n",
      "2      1.5\n",
      "3      2.0\n",
      "4      2.2\n",
      "5      2.9\n",
      "6      3.0\n",
      "7      3.2\n",
      "8      3.2\n",
      "9      3.7\n",
      "10     3.9\n",
      "11     4.0\n",
      "12     4.0\n",
      "13     4.1\n",
      "14     4.5\n",
      "15     4.9\n",
      "16     5.1\n",
      "17     5.3\n",
      "18     5.9\n",
      "19     6.0\n",
      "20     6.8\n",
      "21     7.1\n",
      "22     7.9\n",
      "23     8.2\n",
      "24     8.7\n",
      "25     9.0\n",
      "26     9.5\n",
      "27     9.6\n",
      "28    10.3\n",
      "29    10.5\n",
      "Name: YearsExperience, dtype: float64 \n",
      "\n",
      "Sesudah reshape:\n",
      " [[ 1.1]\n",
      " [ 1.3]\n",
      " [ 1.5]\n",
      " [ 2. ]\n",
      " [ 2.2]\n",
      " [ 2.9]\n",
      " [ 3. ]\n",
      " [ 3.2]\n",
      " [ 3.2]\n",
      " [ 3.7]\n",
      " [ 3.9]\n",
      " [ 4. ]\n",
      " [ 4. ]\n",
      " [ 4.1]\n",
      " [ 4.5]\n",
      " [ 4.9]\n",
      " [ 5.1]\n",
      " [ 5.3]\n",
      " [ 5.9]\n",
      " [ 6. ]\n",
      " [ 6.8]\n",
      " [ 7.1]\n",
      " [ 7.9]\n",
      " [ 8.2]\n",
      " [ 8.7]\n",
      " [ 9. ]\n",
      " [ 9.5]\n",
      " [ 9.6]\n",
      " [10.3]\n",
      " [10.5]]\n"
     ]
    }
   ],
   "source": [
    "# Mengubah bentuk data (reshape) dengan menghilangkan index untuk mempermudah modeling\n",
    "print(\"Sebelum reshape:\\n\",X, \"\\n\")\n",
    "X = X.values.reshape(-1,1)\n",
    "print(\"Sesudah reshape:\\n\",X)"
   ]
  },
  {
   "attachments": {},
   "cell_type": "markdown",
   "id": "5f88f246",
   "metadata": {
    "papermill": {
     "duration": 0.010547,
     "end_time": "2022-12-21T03:08:40.312800",
     "exception": false,
     "start_time": "2022-12-21T03:08:40.302253",
     "status": "completed"
    },
    "tags": []
   },
   "source": [
    "##### Data Split\n",
    "*Data dibagi menjadi pelatihan dan pengujian untuk mengevaluasi kinerja algoritma. Data tersebut akan dibagi menjadi 80% untuk pelatihan dan 20% untuk pengujian. Sehingga data training menjadi 48 dan data testing menjadi 12.*"
   ]
  },
  {
   "cell_type": "code",
   "execution_count": 19,
   "id": "77d37a18",
   "metadata": {
    "execution": {
     "iopub.execute_input": "2022-12-21T03:08:40.335957Z",
     "iopub.status.busy": "2022-12-21T03:08:40.335321Z",
     "iopub.status.idle": "2022-12-21T03:08:40.553259Z",
     "shell.execute_reply": "2022-12-21T03:08:40.551690Z"
    },
    "papermill": {
     "duration": 0.232693,
     "end_time": "2022-12-21T03:08:40.556117",
     "exception": false,
     "start_time": "2022-12-21T03:08:40.323424",
     "status": "completed"
    },
    "tags": []
   },
   "outputs": [
    {
     "name": "stdout",
     "output_type": "stream",
     "text": [
      "(30, 1) (24, 1) (6, 1)\n"
     ]
    }
   ],
   "source": [
    "from sklearn.model_selection import train_test_split\n",
    "\n",
    "X_train, X_test, Y_train, Y_test = train_test_split(X, Y, test_size=0.2, random_state = 0)\n",
    "print(X.shape, X_train.shape, X_test.shape)"
   ]
  },
  {
   "attachments": {},
   "cell_type": "markdown",
   "id": "81494acf",
   "metadata": {
    "papermill": {
     "duration": 0.010836,
     "end_time": "2022-12-21T03:08:40.578115",
     "exception": false,
     "start_time": "2022-12-21T03:08:40.567279",
     "status": "completed"
    },
    "tags": []
   },
   "source": [
    "##### Building models\n",
    "*Modelling dilakukan dengan menggunakan 4 algoritma yaitu Linear Regression, K-Nearest Neighbors Regressor, Random Forset Regressor, dan Decision Tree Regressor. Nantinya akan dilakukan evaluasi untuk menentukan algoritma terbaik dari keempat algpritma tersebut untuk dipilih dan ditammpilkan visualisasinya.*"
   ]
  },
  {
   "attachments": {},
   "cell_type": "markdown",
   "id": "f8fec065",
   "metadata": {
    "papermill": {
     "duration": 0.010363,
     "end_time": "2022-12-21T03:08:40.599370",
     "exception": false,
     "start_time": "2022-12-21T03:08:40.589007",
     "status": "completed"
    },
    "tags": []
   },
   "source": [
    "###### **Linear Regression**\n",
    "*Linear Regression adalah algoritma untuk pemodelan regresi yang digunakan untuk memprediksi nilai variabel berdasarkan nilai variabel lain.*"
   ]
  },
  {
   "cell_type": "code",
   "execution_count": 20,
   "id": "1092c71e",
   "metadata": {
    "execution": {
     "iopub.execute_input": "2022-12-21T03:08:40.622812Z",
     "iopub.status.busy": "2022-12-21T03:08:40.622400Z",
     "iopub.status.idle": "2022-12-21T03:08:40.710926Z",
     "shell.execute_reply": "2022-12-21T03:08:40.709935Z"
    },
    "papermill": {
     "duration": 0.103391,
     "end_time": "2022-12-21T03:08:40.713513",
     "exception": false,
     "start_time": "2022-12-21T03:08:40.610122",
     "status": "completed"
    },
    "tags": []
   },
   "outputs": [],
   "source": [
    "from sklearn.linear_model import LinearRegression\n",
    "\n",
    "# Membangun Model\n",
    "LR = LinearRegression()\n",
    "\n",
    "# Melakukan Training\n",
    "LR.fit(X_train,Y_train)\n",
    "\n",
    "Y_predLR = LR.predict(X_test)"
   ]
  },
  {
   "attachments": {},
   "cell_type": "markdown",
   "id": "c6aee003",
   "metadata": {
    "papermill": {
     "duration": 0.010591,
     "end_time": "2022-12-21T03:08:40.735193",
     "exception": false,
     "start_time": "2022-12-21T03:08:40.724602",
     "status": "completed"
    },
    "tags": []
   },
   "source": [
    "###### **KNN Regressor**\n",
    "KNN Regressor adalah algoritma untuk membangun model regresi yang menggunakan nilai rata-rata atau median dari k tetangga untuk memprediksi elemen target."
   ]
  },
  {
   "cell_type": "code",
   "execution_count": 21,
   "id": "506a52f5",
   "metadata": {
    "execution": {
     "iopub.execute_input": "2022-12-21T03:08:40.759239Z",
     "iopub.status.busy": "2022-12-21T03:08:40.757934Z",
     "iopub.status.idle": "2022-12-21T03:08:40.822220Z",
     "shell.execute_reply": "2022-12-21T03:08:40.820769Z"
    },
    "papermill": {
     "duration": 0.079279,
     "end_time": "2022-12-21T03:08:40.825126",
     "exception": false,
     "start_time": "2022-12-21T03:08:40.745847",
     "status": "completed"
    },
    "tags": []
   },
   "outputs": [],
   "source": [
    "from sklearn.neighbors import KNeighborsRegressor\n",
    "\n",
    "# Membangun Model\n",
    "KNR = KNeighborsRegressor(n_neighbors=3)\n",
    "\n",
    "# Melakukan Training\n",
    "KNR.fit(X_train,Y_train)\n",
    "\n",
    "Y_predKNR = KNR.predict(X_test)"
   ]
  },
  {
   "attachments": {},
   "cell_type": "markdown",
   "id": "e7cabe75",
   "metadata": {
    "papermill": {
     "duration": 0.010294,
     "end_time": "2022-12-21T03:08:40.846372",
     "exception": false,
     "start_time": "2022-12-21T03:08:40.836078",
     "status": "completed"
    },
    "tags": []
   },
   "source": [
    "###### **Random Forest Regressor**\n",
    "*Random Forest Regressor merupakan algoritma untuk pemodelan regresi yang digunakan untuk memprediksi nilai berkelanjutan*"
   ]
  },
  {
   "cell_type": "code",
   "execution_count": 22,
   "id": "c7bd3396",
   "metadata": {
    "execution": {
     "iopub.execute_input": "2022-12-21T03:08:40.869865Z",
     "iopub.status.busy": "2022-12-21T03:08:40.868901Z",
     "iopub.status.idle": "2022-12-21T03:08:41.094947Z",
     "shell.execute_reply": "2022-12-21T03:08:41.094003Z"
    },
    "papermill": {
     "duration": 0.240591,
     "end_time": "2022-12-21T03:08:41.097663",
     "exception": false,
     "start_time": "2022-12-21T03:08:40.857072",
     "status": "completed"
    },
    "tags": []
   },
   "outputs": [],
   "source": [
    "from sklearn.ensemble import RandomForestRegressor\n",
    "\n",
    "# Membangun Model\n",
    "RFR = RandomForestRegressor(random_state = 0)\n",
    "\n",
    "# Melakukan Training\n",
    "RFR.fit(X_train,Y_train)\n",
    "\n",
    "Y_predRFR = RFR.predict(X_test)"
   ]
  },
  {
   "attachments": {},
   "cell_type": "markdown",
   "id": "3076d9ba",
   "metadata": {
    "papermill": {
     "duration": 0.015568,
     "end_time": "2022-12-21T03:08:41.125183",
     "exception": false,
     "start_time": "2022-12-21T03:08:41.109615",
     "status": "completed"
    },
    "tags": []
   },
   "source": [
    "###### **Decision Tree Regressor**\n",
    "*Decision Tree Regressor merupakan algoritma untuk membangun model regresi yang mengamati fitur suatu objek dan melatih model dalam struktur pohon.*"
   ]
  },
  {
   "cell_type": "code",
   "execution_count": 23,
   "id": "122714e4",
   "metadata": {
    "execution": {
     "iopub.execute_input": "2022-12-21T03:08:41.154012Z",
     "iopub.status.busy": "2022-12-21T03:08:41.152798Z",
     "iopub.status.idle": "2022-12-21T03:08:41.160716Z",
     "shell.execute_reply": "2022-12-21T03:08:41.159593Z"
    },
    "papermill": {
     "duration": 0.024081,
     "end_time": "2022-12-21T03:08:41.163808",
     "exception": false,
     "start_time": "2022-12-21T03:08:41.139727",
     "status": "completed"
    },
    "tags": []
   },
   "outputs": [],
   "source": [
    "from sklearn.tree import DecisionTreeRegressor\n",
    "\n",
    "# Membangun Model\n",
    "DTR = DecisionTreeRegressor(random_state = 0)\n",
    "\n",
    "# Melakukan Training\n",
    "DTR.fit(X_train,Y_train)\n",
    "\n",
    "Y_predDTR = DTR.predict(X_test)"
   ]
  },
  {
   "attachments": {},
   "cell_type": "markdown",
   "id": "e534dbc2",
   "metadata": {
    "papermill": {
     "duration": 0.010778,
     "end_time": "2022-12-21T03:08:41.187096",
     "exception": false,
     "start_time": "2022-12-21T03:08:41.176318",
     "status": "completed"
    },
    "tags": []
   },
   "source": [
    "#### Evaluation\n",
    "*Evaluasi adalah proses pencatatan hasil pembelajaran menggunakan metrik evaluasi yang berbeda untuk memahami kinerja model. Evaluasi model juga berperan dalam pemantauan dan pemilihan model terbaik dengan melihat score dari data test dan data train masing-masing algoritma. Berdasarkan informasi dibawah ini, diperoleh bahwa model terbaik adalah Linear Regression.*"
   ]
  },
  {
   "cell_type": "code",
   "execution_count": 24,
   "id": "4c91b742",
   "metadata": {
    "execution": {
     "iopub.execute_input": "2022-12-21T03:08:41.210633Z",
     "iopub.status.busy": "2022-12-21T03:08:41.209785Z",
     "iopub.status.idle": "2022-12-21T03:08:41.246407Z",
     "shell.execute_reply": "2022-12-21T03:08:41.244911Z"
    },
    "papermill": {
     "duration": 0.051056,
     "end_time": "2022-12-21T03:08:41.248933",
     "exception": false,
     "start_time": "2022-12-21T03:08:41.197877",
     "status": "completed"
    },
    "tags": []
   },
   "outputs": [
    {
     "name": "stdout",
     "output_type": "stream",
     "text": [
      "Linear Regression\n",
      "Train :  94.11949620562126\n",
      "Test  :  98.8169515729126 \n",
      "\n",
      "KNN Regressor\n",
      "Train :  96.1998291391859\n",
      "Test  :  97.35051713340684 \n",
      "\n",
      "Decision Tree Regressor\n",
      "Train :  99.65651820805788\n",
      "Test  :  97.64754205531827 \n",
      "\n",
      "Random Forest Regressor\n",
      "Train :  98.65291759929377\n",
      "Test  :  97.9497245436854 \n",
      "\n"
     ]
    }
   ],
   "source": [
    "from sklearn.metrics import r2_score\n",
    "\n",
    "# Melihat akurasi testing dan training dari model Linear Regression\n",
    "print(\"Linear Regression\")\n",
    "LR_Train = LR.score(X_train,Y_train)*100\n",
    "LR_Test = LR.score(X_test, Y_test)*100 \n",
    "print(\"Train : \",LR_Train)\n",
    "print(\"Test  : \",LR_Test, \"\\n\")\n",
    "\n",
    "# Melihat akurasi testing dan training dari model KNN Regressor\n",
    "print(\"KNN Regressor\")\n",
    "KNR_Train = KNR.score(X_train,Y_train)*100\n",
    "KNR_Test = KNR.score(X_test, Y_test)*100 \n",
    "print(\"Train : \",KNR_Train)\n",
    "print(\"Test  : \",KNR_Test, \"\\n\")\n",
    "\n",
    "# Melihat akurasi testing dan training dari model Decision Tree Regressor\n",
    "print(\"Decision Tree Regressor\")\n",
    "DTR_Train = DTR.score(X_train,Y_train)*100\n",
    "DTR_Test = DTR.score(X_test, Y_test)*100 \n",
    "print(\"Train : \",DTR_Train)\n",
    "print(\"Test  : \",DTR_Test, \"\\n\")\n",
    "\n",
    "# Melihat akurasi testing dan training dari model Random Forest Regressor\n",
    "print(\"Random Forest Regressor\")\n",
    "RFR_Train = RFR.score(X_train,Y_train)*100\n",
    "RFR_Test = RFR.score(X_test, Y_test)*100 \n",
    "print(\"Train : \",RFR_Train)\n",
    "print(\"Test  : \",RFR_Test, \"\\n\")"
   ]
  },
  {
   "attachments": {},
   "cell_type": "markdown",
   "id": "6c4f4ddc",
   "metadata": {
    "papermill": {
     "duration": 0.010415,
     "end_time": "2022-12-21T03:08:41.270297",
     "exception": false,
     "start_time": "2022-12-21T03:08:41.259882",
     "status": "completed"
    },
    "tags": []
   },
   "source": [
    "\n",
    "*Evaluasi dibawah dilakukan menggunakan mean absolute error, mean squared error, dan r2-score. Semakin kecil nilai mean absolute error dan mean squared error, namun semakin besar nilai r2-score maka algoritma tersebut lebih baik.*"
   ]
  },
  {
   "cell_type": "code",
   "execution_count": 25,
   "id": "7ef72fd4",
   "metadata": {
    "execution": {
     "iopub.execute_input": "2022-12-21T03:08:41.293511Z",
     "iopub.status.busy": "2022-12-21T03:08:41.293136Z",
     "iopub.status.idle": "2022-12-21T03:08:41.384421Z",
     "shell.execute_reply": "2022-12-21T03:08:41.383245Z"
    },
    "papermill": {
     "duration": 0.105811,
     "end_time": "2022-12-21T03:08:41.386941",
     "exception": false,
     "start_time": "2022-12-21T03:08:41.281130",
     "status": "completed"
    },
    "tags": []
   },
   "outputs": [
    {
     "data": {
      "text/html": [
       "<style type=\"text/css\">\n",
       "#T_d83f3_row0_col2 {\n",
       "  background-color: #00441b;\n",
       "  color: #f1f1f1;\n",
       "}\n",
       "#T_d83f3_row1_col2 {\n",
       "  background-color: #95d391;\n",
       "  color: #000000;\n",
       "}\n",
       "#T_d83f3_row2_col2 {\n",
       "  background-color: #d3eecd;\n",
       "  color: #000000;\n",
       "}\n",
       "#T_d83f3_row3_col2 {\n",
       "  background-color: #f7fcf5;\n",
       "  color: #000000;\n",
       "}\n",
       "</style>\n",
       "<table id=\"T_d83f3\">\n",
       "  <thead>\n",
       "    <tr>\n",
       "      <th class=\"blank level0\" >&nbsp;</th>\n",
       "      <th id=\"T_d83f3_level0_col0\" class=\"col_heading level0 col0\" >Mean Absolute Error</th>\n",
       "      <th id=\"T_d83f3_level0_col1\" class=\"col_heading level0 col1\" >Mean Squared Error</th>\n",
       "      <th id=\"T_d83f3_level0_col2\" class=\"col_heading level0 col2\" >R2-score</th>\n",
       "    </tr>\n",
       "  </thead>\n",
       "  <tbody>\n",
       "    <tr>\n",
       "      <th id=\"T_d83f3_level0_row0\" class=\"row_heading level0 row0\" >LinearRegression</th>\n",
       "      <td id=\"T_d83f3_row0_col0\" class=\"data row0 col0\" >2446.172369</td>\n",
       "      <td id=\"T_d83f3_row0_col1\" class=\"data row0 col1\" >12823412.298127</td>\n",
       "      <td id=\"T_d83f3_row0_col2\" class=\"data row0 col2\" >98.816952</td>\n",
       "    </tr>\n",
       "    <tr>\n",
       "      <th id=\"T_d83f3_level0_row1\" class=\"row_heading level0 row1\" >Random Forest</th>\n",
       "      <td id=\"T_d83f3_row1_col0\" class=\"data row1 col0\" >4100.858611</td>\n",
       "      <td id=\"T_d83f3_row1_col1\" class=\"data row1 col1\" >22223542.924426</td>\n",
       "      <td id=\"T_d83f3_row1_col2\" class=\"data row1 col2\" >97.949725</td>\n",
       "    </tr>\n",
       "    <tr>\n",
       "      <th id=\"T_d83f3_level0_row2\" class=\"row_heading level0 row2\" >DecisionTree</th>\n",
       "      <td id=\"T_d83f3_row2_col0\" class=\"data row2 col0\" >4120.666667</td>\n",
       "      <td id=\"T_d83f3_row2_col1\" class=\"data row2 col1\" >25498988.416667</td>\n",
       "      <td id=\"T_d83f3_row2_col2\" class=\"data row2 col2\" >97.647542</td>\n",
       "    </tr>\n",
       "    <tr>\n",
       "      <th id=\"T_d83f3_level0_row3\" class=\"row_heading level0 row3\" >K-nearest Neighbors</th>\n",
       "      <td id=\"T_d83f3_row3_col0\" class=\"data row3 col0\" >4577.555556</td>\n",
       "      <td id=\"T_d83f3_row3_col1\" class=\"data row3 col1\" >28718529.518519</td>\n",
       "      <td id=\"T_d83f3_row3_col2\" class=\"data row3 col2\" >97.350517</td>\n",
       "    </tr>\n",
       "  </tbody>\n",
       "</table>\n"
      ],
      "text/plain": [
       "<pandas.io.formats.style.Styler at 0x7f7ab2c47970>"
      ]
     },
     "execution_count": 25,
     "metadata": {},
     "output_type": "execute_result"
    }
   ],
   "source": [
    "from sklearn.metrics import mean_absolute_error\n",
    "from sklearn.metrics import mean_squared_error\n",
    "\n",
    "results= pd.DataFrame(columns=['Mean Absolute Error','Mean Squared Error','R2-score'])\n",
    "results.loc['LinearRegression']=[mean_absolute_error(Y_test,Y_predLR),mean_squared_error(Y_test,Y_predLR),r2_score(Y_test,Y_predLR)*100]\n",
    "results.loc['K-nearest Neighbors']=[mean_absolute_error(Y_test,Y_predKNR),mean_squared_error(Y_test,Y_predKNR),r2_score(Y_test,Y_predKNR)*100]\n",
    "results.loc['DecisionTree']=[mean_absolute_error(Y_test,Y_predDTR),mean_squared_error(Y_test,Y_predDTR),r2_score(Y_test,Y_predDTR)*100]\n",
    "results.loc['Random Forest']=[mean_absolute_error(Y_test,Y_predRFR),mean_squared_error(Y_test,Y_predRFR),r2_score(Y_test,Y_predRFR)*100]\n",
    "\n",
    "# Melakukan pengurutan berdasarkan R2-score\n",
    "results.sort_values('R2-score',ascending=False).style.background_gradient(cmap='Greens', subset=['R2-score'])"
   ]
  },
  {
   "attachments": {},
   "cell_type": "markdown",
   "id": "107819dc",
   "metadata": {
    "papermill": {
     "duration": 0.010617,
     "end_time": "2022-12-21T03:08:41.408732",
     "exception": false,
     "start_time": "2022-12-21T03:08:41.398115",
     "status": "completed"
    },
    "tags": []
   },
   "source": [
    "##### K-Fold Cross Validation\n",
    "Validasi silang adalah prosedur resampling yang digunakan untuk mengevaluasi model pembelajaran mesin pada sampel data terbatas.\n",
    "\n",
    "Prosedur memiliki parameter tunggal yang disebut k yang akan dipecah menjadi sampel data yang diberikan. Dengan demikian, prosedur ini sering disebut k-fold cross-validation."
   ]
  },
  {
   "cell_type": "code",
   "execution_count": 26,
   "id": "30931202",
   "metadata": {
    "execution": {
     "iopub.execute_input": "2022-12-21T03:08:41.432562Z",
     "iopub.status.busy": "2022-12-21T03:08:41.432132Z",
     "iopub.status.idle": "2022-12-21T03:08:41.458646Z",
     "shell.execute_reply": "2022-12-21T03:08:41.457056Z"
    },
    "papermill": {
     "duration": 0.041564,
     "end_time": "2022-12-21T03:08:41.461374",
     "exception": false,
     "start_time": "2022-12-21T03:08:41.419810",
     "status": "completed"
    },
    "tags": []
   },
   "outputs": [
    {
     "name": "stdout",
     "output_type": "stream",
     "text": [
      "The Average Cross Validation Score is 92.755\n"
     ]
    }
   ],
   "source": [
    "from sklearn.model_selection import KFold\n",
    "from sklearn.model_selection import cross_val_score\n",
    "\n",
    "# Menilai kinerja metode Linier Regression dengan membagi sampel data sebanyak 10 lipatan secara acak \n",
    "cv_LR = KFold(n_splits=10, random_state=0, shuffle=True)\n",
    "score = cross_val_score(LR,X,Y,cv=cv_LR)\n",
    "print('The Average Cross Validation Score is',np.round(np.mean(score)*100,3))"
   ]
  },
  {
   "attachments": {},
   "cell_type": "markdown",
   "id": "a4a7c100",
   "metadata": {
    "papermill": {
     "duration": 0.010913,
     "end_time": "2022-12-21T03:08:41.483666",
     "exception": false,
     "start_time": "2022-12-21T03:08:41.472753",
     "status": "completed"
    },
    "tags": []
   },
   "source": [
    "#### Prediction\n",
    "*Prediksi nilai salary berdasarkan years experience akan dilakukan menggunakan algoritma Linear Regression. Percobaan prediksi akan dilakukan sebanyak 3 kali dengan nilai years experience 3,5, dan 10.*"
   ]
  },
  {
   "cell_type": "code",
   "execution_count": 27,
   "id": "a70b4014",
   "metadata": {
    "execution": {
     "iopub.execute_input": "2022-12-21T03:08:41.507831Z",
     "iopub.status.busy": "2022-12-21T03:08:41.507421Z",
     "iopub.status.idle": "2022-12-21T03:08:41.515004Z",
     "shell.execute_reply": "2022-12-21T03:08:41.513753Z"
    },
    "papermill": {
     "duration": 0.02302,
     "end_time": "2022-12-21T03:08:41.518058",
     "exception": false,
     "start_time": "2022-12-21T03:08:41.495038",
     "status": "completed"
    },
    "tags": []
   },
   "outputs": [
    {
     "name": "stdout",
     "output_type": "stream",
     "text": [
      "[54717.82453082]\n",
      "[73342.97478427]\n",
      "[119905.85041792]\n"
     ]
    }
   ],
   "source": [
    "# Mencoba prediksi untuk 3, 5, dan 10 tahun kedepan\n",
    "print(LR.predict([[3]]))\n",
    "print(LR.predict([[5]]))\n",
    "print(LR.predict([[10]]))\n",
    "\n",
    "# Berapakah nilai salary yang akan keluar?\n",
    "# Nilainya adalah 54k, 73k, dan 119k"
   ]
  },
  {
   "attachments": {},
   "cell_type": "markdown",
   "id": "df762913",
   "metadata": {
    "papermill": {
     "duration": 0.010773,
     "end_time": "2022-12-21T03:08:41.541961",
     "exception": false,
     "start_time": "2022-12-21T03:08:41.531188",
     "status": "completed"
    },
    "tags": []
   },
   "source": [
    "#### Prediction Visualization\n",
    "*Melakukan representasi informasi dan data dalam bentuk gambar grafik distplot dari hasil yang diperkirakan algoritma dengan data aslinya. Visualisasi dibawah menggunakan bantuan dari library seaborn.*"
   ]
  },
  {
   "cell_type": "code",
   "execution_count": 28,
   "id": "ecffbb17",
   "metadata": {
    "execution": {
     "iopub.execute_input": "2022-12-21T03:08:41.566537Z",
     "iopub.status.busy": "2022-12-21T03:08:41.565590Z",
     "iopub.status.idle": "2022-12-21T03:08:41.829246Z",
     "shell.execute_reply": "2022-12-21T03:08:41.828252Z"
    },
    "papermill": {
     "duration": 0.278582,
     "end_time": "2022-12-21T03:08:41.831698",
     "exception": false,
     "start_time": "2022-12-21T03:08:41.553116",
     "status": "completed"
    },
    "tags": []
   },
   "outputs": [
    {
     "data": {
      "text/plain": [
       "<matplotlib.legend.Legend at 0x7f7ab2d867d0>"
      ]
     },
     "execution_count": 28,
     "metadata": {},
     "output_type": "execute_result"
    },
    {
     "data": {
      "image/png": "[encoded data removed]",
      "text/plain": [
       "<Figure size 640x480 with 1 Axes>"
      ]
     },
     "metadata": {},
     "output_type": "display_data"
    }
   ],
   "source": [
    "sb.distplot(Y_test,hist=False,label='Actual')\n",
    "sb.distplot(Y_predLR,hist=False,label='Predicted')\n",
    "plt.legend()"
   ]
  },
  {
   "cell_type": "code",
   "execution_count": 31,
   "id": "7f17f360",
   "metadata": {},
   "outputs": [
    {
     "data": {
      "text/html": [
       "<div>\n",
       "<style scoped>\n",
       "    .dataframe tbody tr th:only-of-type {\n",
       "        vertical-align: middle;\n",
       "    }\n",
       "\n",
       "    .dataframe tbody tr th {\n",
       "        vertical-align: top;\n",
       "    }\n",
       "\n",
       "    .dataframe thead th {\n",
       "        text-align: right;\n",
       "    }\n",
       "</style>\n",
       "<table border=\"1\" class=\"dataframe\">\n",
       "  <thead>\n",
       "    <tr style=\"text-align: right;\">\n",
       "      <th></th>\n",
       "      <th>YearsExperience</th>\n",
       "      <th>Salary</th>\n",
       "    </tr>\n",
       "  </thead>\n",
       "  <tbody>\n",
       "    <tr>\n",
       "      <th>0</th>\n",
       "      <td>1.1</td>\n",
       "      <td>39343.0</td>\n",
       "    </tr>\n",
       "    <tr>\n",
       "      <th>1</th>\n",
       "      <td>1.3</td>\n",
       "      <td>46205.0</td>\n",
       "    </tr>\n",
       "    <tr>\n",
       "      <th>2</th>\n",
       "      <td>1.5</td>\n",
       "      <td>37731.0</td>\n",
       "    </tr>\n",
       "    <tr>\n",
       "      <th>3</th>\n",
       "      <td>2.0</td>\n",
       "      <td>43525.0</td>\n",
       "    </tr>\n",
       "    <tr>\n",
       "      <th>4</th>\n",
       "      <td>2.2</td>\n",
       "      <td>39891.0</td>\n",
       "    </tr>\n",
       "  </tbody>\n",
       "</table>\n",
       "</div>"
      ],
      "text/plain": [
       "   YearsExperience   Salary\n",
       "0              1.1  39343.0\n",
       "1              1.3  46205.0\n",
       "2              1.5  37731.0\n",
       "3              2.0  43525.0\n",
       "4              2.2  39891.0"
      ]
     },
     "execution_count": 31,
     "metadata": {},
     "output_type": "execute_result"
    }
   ],
   "source": [
    "data.head()"
   ]
  },
  {
   "cell_type": "code",
   "execution_count": 46,
   "id": "b666a3f2",
   "metadata": {},
   "outputs": [],
   "source": [
    "import pickle\n",
    "\n",
    "filename = 'Salary.sav'\n",
    "pickle.dump(lr,open(filename,'wb'))"
   ]
  }
 ],
 "metadata": {
  "kernelspec": {
   "display_name": "Python 3",
   "language": "python",
   "name": "python3"
  },
  "language_info": {
   "codemirror_mode": {
    "name": "ipython",
    "version": 3
   },
   "file_extension": ".py",
   "mimetype": "text/x-python",
   "name": "python",
   "nbconvert_exporter": "python",
   "pygments_lexer": "ipython3",
   "version": "3.10.9"
  },
  "papermill": {
   "default_parameters": {},
   "duration": 13.403139,
   "end_time": "2022-12-21T03:08:42.667688",
   "environment_variables": {},
   "exception": null,
   "input_path": "__notebook__.ipynb",
   "output_path": "__notebook__.ipynb",
   "parameters": {},
   "start_time": "2022-12-21T03:08:29.264549",
   "version": "2.3.4"
  }
 },
 "nbformat": 4,
 "nbformat_minor": 5
}
